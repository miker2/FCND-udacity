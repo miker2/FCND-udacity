{
 "cells": [
  {
   "cell_type": "markdown",
   "metadata": {},
   "source": [
    "## Finding Your Way In The City\n",
    "\n",
    "In this notebook you'll combine the work of previous exercises to calculate a minimal series of waypoints in order to get from a start location to a goal location.\n",
    "\n",
    "You'll reuse and modify your algorithms from:\n",
    "\n",
    "- A*\n",
    "- Configuration Space\n",
    "- Collinearity and/or Bresenham"
   ]
  },
  {
   "cell_type": "code",
   "execution_count": 1,
   "metadata": {},
   "outputs": [],
   "source": [
    "import numpy as np\n",
    "import matplotlib.pyplot as plt\n",
    "from grid import create_grid\n",
    "from planning import a_star\n",
    "\n",
    "%matplotlib inline\n",
    "\n",
    "from bresenham import bresenham"
   ]
  },
  {
   "cell_type": "code",
   "execution_count": 2,
   "metadata": {},
   "outputs": [],
   "source": [
    "plt.rcParams['figure.figsize'] = 12, 12"
   ]
  },
  {
   "cell_type": "markdown",
   "metadata": {},
   "source": [
    "You'll notice we've imported `create_grid`, and `a_star`. These are functions you've implemented in previous exercises, and here you'll use them to create a map and find a path from a starting position to a goal position.\n",
    "\n",
    "To read the function signature and documentation execute `?` followed by the function name in a cell. In the example below we'll check the documentation for `create_grid`."
   ]
  },
  {
   "cell_type": "code",
   "execution_count": 3,
   "metadata": {},
   "outputs": [],
   "source": [
    "?bresenham"
   ]
  },
  {
   "cell_type": "markdown",
   "metadata": {},
   "source": [
    "If you would like to alter these implementations, you can modify [grid.py](/edit/grid.py) and [planning.py](/edit/planning.py) in the current directory."
   ]
  },
  {
   "cell_type": "code",
   "execution_count": 4,
   "metadata": {},
   "outputs": [
    {
     "name": "stdout",
     "output_type": "stream",
     "text": [
      "[[-310.2389   -439.2315     85.5         5.          5.         85.5     ]\n",
      " [-300.2389   -439.2315     85.5         5.          5.         85.5     ]\n",
      " [-290.2389   -439.2315     85.5         5.          5.         85.5     ]\n",
      " ..., \n",
      " [ 257.8061    425.1645      1.75852     1.292725    1.292725    1.944791]\n",
      " [ 293.9967    368.3391      3.557666    1.129456    1.129456    3.667319]\n",
      " [ 281.5162    354.4156      4.999351    1.053772    1.053772    4.950246]]\n"
     ]
    }
   ],
   "source": [
    "# This is the same obstacle data from the previous lesson.\n",
    "filename = 'colliders.csv'\n",
    "data = np.loadtxt(filename, delimiter=',', dtype='Float64', skiprows=2)\n",
    "print(data)"
   ]
  },
  {
   "cell_type": "code",
   "execution_count": 5,
   "metadata": {},
   "outputs": [],
   "source": [
    "# Static drone altitude (meters)\n",
    "drone_altitude = 5\n",
    "\n",
    "# Minimum distance stay away from obstacle (meters)\n",
    "safe_distance = 3"
   ]
  },
  {
   "cell_type": "code",
   "execution_count": 6,
   "metadata": {},
   "outputs": [],
   "source": [
    "# TODO: Use `create_grid` to create a grid configuration space of\n",
    "# the obstacle data.\n",
    "grid = create_grid(data, drone_altitude, safe_distance)"
   ]
  },
  {
   "cell_type": "code",
   "execution_count": 7,
   "metadata": {},
   "outputs": [
    {
     "data": {
      "image/png": "[encoded data removed]",
      "text/plain": [
       "<matplotlib.figure.Figure at 0x7f77306a2e48>"
      ]
     },
     "metadata": {
      "needs_background": "light"
     },
     "output_type": "display_data"
    }
   ],
   "source": [
    "# equivalent to\n",
    "# plt.imshow(np.flip(grid, 0))\n",
    "plt.imshow(grid, origin='lower') \n",
    "\n",
    "plt.xlabel('EAST')\n",
    "plt.ylabel('NORTH')\n",
    "plt.show()"
   ]
  },
  {
   "cell_type": "markdown",
   "metadata": {},
   "source": [
    "Next you'll compute the path from a start location to a goal location using A*."
   ]
  },
  {
   "cell_type": "markdown",
   "metadata": {},
   "source": [
    "Start and goal coordinates in *(north, east)*."
   ]
  },
  {
   "cell_type": "code",
   "execution_count": 8,
   "metadata": {},
   "outputs": [],
   "source": [
    "start_ne = (25,  100)\n",
    "goal_ne = (750., 370.)"
   ]
  },
  {
   "cell_type": "markdown",
   "metadata": {},
   "source": [
    "Write a heuristic function."
   ]
  },
  {
   "cell_type": "code",
   "execution_count": 9,
   "metadata": {},
   "outputs": [],
   "source": [
    "def heuristic_func(position, goal_position):\n",
    "    # Use euclidean distance as the heuristic\n",
    "    h = np.math.sqrt((goal_position[0] - position[0])**2 +\n",
    "                     (goal_position[1] - position[1])**2)\n",
    "    return h"
   ]
  },
  {
   "cell_type": "markdown",
   "metadata": {},
   "source": [
    "Compute the lowest cost path with `a_star`. "
   ]
  },
  {
   "cell_type": "code",
   "execution_count": 10,
   "metadata": {},
   "outputs": [
    {
     "name": "stdout",
     "output_type": "stream",
     "text": [
      "Found a path.\n",
      "[(25, 100), (26, 101), (27, 102), (28, 103), (29, 104), (30, 105), (31, 106), (32, 107), (33, 108), (34, 109), (35, 110), (36, 111), (36, 112), (36, 113), (36, 114), (36, 115), (36, 116), (36, 117), (36, 118), (36, 119), (36, 120), (36, 121), (36, 122), (36, 123), (36, 124), (36, 125), (36, 126), (36, 127), (36, 128), (36, 129), (36, 130), (36, 131), (36, 132), (36, 133), (36, 134), (36, 135), (36, 136), (36, 137), (36, 138), (36, 139), (36, 140), (36, 141), (36, 142), (36, 143), (37, 144), (38, 145), (39, 146), (40, 147), (41, 148), (42, 149), (43, 150), (44, 151), (45, 152), (46, 153), (47, 154), (48, 155), (49, 156), (50, 157), (51, 158), (52, 159), (53, 160), (54, 161), (55, 162), (56, 163), (57, 164), (58, 165), (59, 166), (60, 167), (61, 168), (62, 169), (63, 170), (64, 171), (65, 172), (66, 173), (67, 174), (68, 175), (69, 176), (70, 177), (71, 178), (72, 179), (73, 180), (74, 181), (75, 182), (76, 183), (77, 184), (78, 185), (79, 186), (80, 187), (81, 188), (82, 189), (83, 190), (84, 191), (85, 192), (86, 193), (87, 194), (88, 195), (89, 196), (90, 197), (91, 198), (92, 199), (93, 200), (94, 201), (95, 202), (96, 203), (97, 204), (98, 205), (99, 206), (100, 207), (101, 208), (102, 209), (103, 210), (104, 211), (105, 212), (106, 213), (107, 214), (108, 215), (109, 216), (110, 217), (111, 218), (112, 219), (113, 220), (114, 221), (115, 222), (116, 223), (117, 224), (118, 225), (119, 226), (120, 227), (121, 228), (122, 229), (123, 230), (124, 231), (125, 232), (126, 233), (127, 234), (128, 235), (129, 236), (130, 237), (131, 238), (132, 239), (133, 240), (134, 241), (135, 242), (136, 243), (137, 244), (138, 245), (139, 246), (140, 247), (141, 248), (142, 249), (143, 250), (144, 251), (145, 252), (146, 253), (147, 254), (148, 255), (149, 256), (150, 257), (151, 258), (152, 259), (153, 260), (154, 261), (155, 262), (156, 263), (157, 264), (158, 265), (159, 266), (160, 267), (161, 268), (162, 269), (163, 270), (164, 271), (165, 272), (166, 273), (167, 274), (168, 275), (169, 276), (170, 277), (171, 278), (172, 279), (173, 280), (174, 281), (175, 282), (176, 283), (176, 284), (176, 285), (176, 286), (176, 287), (176, 288), (176, 289), (176, 290), (176, 291), (176, 292), (176, 293), (177, 294), (178, 295), (179, 296), (180, 297), (181, 298), (182, 299), (183, 300), (184, 301), (185, 302), (186, 303), (187, 304), (188, 305), (189, 306), (190, 307), (191, 308), (192, 309), (193, 310), (194, 311), (195, 312), (196, 313), (197, 314), (198, 315), (199, 316), (200, 317), (201, 318), (202, 319), (203, 320), (204, 321), (205, 322), (206, 323), (207, 324), (208, 324), (209, 324), (210, 324), (211, 324), (212, 324), (213, 324), (214, 324), (215, 324), (216, 324), (217, 324), (218, 324), (219, 324), (220, 324), (221, 324), (222, 324), (223, 324), (224, 324), (225, 324), (226, 324), (227, 324), (228, 324), (229, 324), (230, 324), (231, 324), (232, 324), (233, 324), (234, 324), (235, 324), (236, 324), (237, 324), (238, 324), (239, 324), (240, 324), (241, 324), (242, 324), (243, 324), (244, 324), (245, 324), (246, 324), (247, 324), (248, 324), (249, 324), (250, 324), (251, 324), (252, 324), (253, 324), (254, 324), (255, 324), (256, 324), (257, 324), (258, 324), (259, 324), (260, 324), (261, 324), (262, 324), (263, 324), (264, 324), (265, 324), (266, 324), (267, 324), (268, 324), (269, 324), (270, 324), (271, 324), (272, 324), (273, 324), (274, 324), (275, 324), (276, 324), (277, 324), (278, 324), (279, 324), (280, 324), (281, 324), (282, 324), (283, 324), (284, 324), (285, 324), (286, 324), (287, 324), (288, 324), (289, 324), (290, 324), (291, 324), (292, 324), (293, 324), (294, 324), (295, 324), (296, 324), (297, 324), (298, 324), (299, 324), (300, 324), (301, 324), (302, 324), (303, 324), (304, 324), (305, 324), (306, 324), (307, 324), (308, 324), (309, 324), (310, 324), (311, 324), (312, 324), (313, 324), (314, 324), (315, 324), (316, 324), (317, 324), (318, 324), (319, 324), (320, 323), (321, 322), (322, 321), (323, 320), (324, 319), (325, 318), (326, 317), (327, 316), (328, 316), (329, 316), (330, 316), (331, 316), (332, 316), (333, 316), (334, 316), (335, 316), (336, 316), (337, 316), (338, 316), (339, 316), (340, 316), (341, 316), (342, 316), (343, 316), (344, 316), (345, 316), (346, 316), (347, 316), (348, 316), (349, 316), (350, 316), (351, 316), (352, 316), (353, 316), (354, 316), (355, 316), (356, 316), (357, 316), (358, 316), (359, 316), (360, 316), (361, 316), (362, 316), (363, 316), (364, 316), (365, 316), (366, 316), (367, 316), (368, 316), (369, 316), (370, 316), (371, 316), (372, 316), (373, 316), (374, 316), (375, 316), (376, 316), (377, 316), (378, 315), (379, 314), (380, 313), (381, 312), (382, 311), (383, 310), (384, 309), (385, 308), (386, 307), (387, 306), (388, 306), (389, 306), (390, 306), (391, 306), (392, 306), (393, 306), (394, 306), (395, 306), (396, 306), (397, 306), (398, 306), (399, 306), (400, 306), (401, 306), (402, 306), (403, 306), (404, 306), (405, 306), (406, 306), (407, 306), (408, 306), (409, 306), (410, 306), (411, 306), (412, 306), (413, 306), (414, 306), (415, 306), (416, 306), (417, 306), (418, 306), (419, 306), (420, 306), (421, 306), (422, 306), (423, 306), (424, 307), (425, 308), (426, 309), (427, 310), (428, 311), (429, 312), (430, 313), (431, 314), (432, 315), (433, 316), (434, 317), (435, 318), (436, 319), (437, 320), (438, 321), (439, 322), (440, 323), (441, 324), (442, 325), (443, 326), (444, 327), (445, 328), (446, 329), (447, 330), (448, 331), (449, 332), (450, 333), (451, 334), (452, 335), (453, 336), (454, 337), (455, 338), (456, 339), (456, 340), (456, 341), (456, 342), (456, 343), (456, 344), (456, 345), (456, 346), (456, 347), (456, 348), (456, 349), (456, 350), (456, 351), (456, 352), (456, 353), (457, 354), (458, 354), (459, 354), (460, 354), (461, 354), (462, 354), (463, 354), (464, 354), (465, 354), (466, 354), (467, 354), (468, 354), (469, 354), (470, 354), (471, 354), (472, 354), (473, 354), (474, 354), (475, 354), (476, 354), (477, 354), (478, 354), (479, 354), (480, 354), (481, 354), (482, 354), (483, 354), (484, 354), (485, 354), (486, 354), (487, 354), (488, 354), (489, 354), (490, 354), (491, 354), (492, 354), (493, 354), (494, 354), (495, 354), (496, 354), (497, 354), (498, 354), (499, 354), (500, 354), (501, 354), (502, 354), (503, 354), (504, 354), (505, 354), (506, 354), (507, 354), (508, 354), (509, 354), (510, 354), (511, 354), (512, 354), (513, 354), (514, 354), (515, 354), (516, 354), (517, 354), (518, 354), (519, 354), (520, 354), (521, 354), (522, 354), (523, 354), (524, 354), (525, 354), (526, 354), (527, 354), (528, 354), (529, 354), (530, 354), (531, 354), (532, 354), (533, 354), (534, 354), (535, 354), (536, 354), (537, 354), (538, 354), (539, 354), (540, 354), (541, 354), (542, 354), (543, 354), (544, 354), (545, 354), (546, 354), (547, 354), (548, 354), (549, 354), (550, 354), (551, 354), (552, 354), (553, 354), (554, 354), (555, 354), (556, 354), (557, 354), (558, 354), (559, 354), (560, 354), (561, 354), (562, 354), (563, 354), (564, 354), (565, 354), (566, 354), (567, 354), (568, 354), (569, 354), (570, 354), (571, 354), (572, 355), (573, 356), (574, 357), (575, 358), (576, 359), (577, 360), (578, 361), (579, 362), (580, 363), (581, 364), (582, 365), (583, 366), (584, 367), (585, 368), (586, 369), (587, 370), (588, 371), (589, 372), (590, 373), (591, 374), (592, 375), (593, 376), (594, 377), (595, 378), (596, 379), (596, 380), (596, 381), (596, 382), (596, 383), (597, 384), (598, 384), (599, 384), (600, 384), (601, 384), (602, 384), (603, 384), (604, 384), (605, 384), (606, 384), (607, 384), (608, 384), (609, 384), (610, 384), (611, 384), (612, 384), (613, 384), (614, 384), (615, 384), (616, 384), (617, 384), (618, 384), (619, 384), (620, 384), (621, 384), (622, 384), (623, 384), (624, 384), (625, 384), (626, 384), (627, 384), (628, 384), (629, 384), (630, 384), (631, 384), (632, 384), (633, 384), (634, 384), (635, 384), (636, 384), (637, 384), (638, 384), (639, 384), (640, 384), (641, 384), (642, 384), (643, 384), (644, 384), (645, 384), (646, 384), (647, 384), (648, 384), (649, 384), (650, 384), (651, 384), (652, 384), (653, 384), (654, 384), (655, 384), (656, 384), (657, 384), (658, 384), (659, 384), (660, 384), (661, 384), (662, 384), (663, 384), (664, 384), (665, 384), (666, 384), (667, 384), (668, 384), (669, 384), (670, 384), (671, 384), (672, 384), (673, 384), (674, 384), (675, 384), (676, 384), (677, 384), (678, 384), (679, 384), (680, 384), (681, 384), (682, 384), (683, 384), (684, 384), (685, 384), (686, 384), (687, 384), (688, 384), (689, 384), (690, 384), (691, 384), (692, 384), (693, 384), (694, 384), (695, 384), (696, 384), (697, 384), (698, 384), (699, 384), (700, 384), (701, 384), (702, 384), (703, 384), (704, 384), (705, 384), (706, 384), (707, 384), (708, 384), (709, 384), (710, 384), (711, 384), (712, 384), (713, 384), (714, 384), (715, 384), (716, 384), (717, 384), (718, 384), (719, 384), (720, 384), (721, 383), (722, 383), (723, 382), (724, 382), (725, 381), (726, 381), (727, 380), (728, 380), (729, 380), (730, 379), (731, 379), (732, 378), (733, 378), (734, 377), (735, 377), (736, 376), (737, 376), (738, 375), (739, 375), (740, 375), (741, 374), (742, 374), (743, 373), (744, 373), (745, 372), (746, 372), (747, 371), (748, 371), (749, 370), (750.0, 370.0)] 898.4945160902303\n"
     ]
    }
   ],
   "source": [
    "# TODO: use `a_star` to compute the lowest cost path\n",
    "path, cost = a_star(grid, heuristic_func, start_ne, goal_ne)\n",
    "print(path, cost)"
   ]
  },
  {
   "cell_type": "markdown",
   "metadata": {},
   "source": [
    "Let's plot the path!"
   ]
  },
  {
   "cell_type": "code",
   "execution_count": 11,
   "metadata": {},
   "outputs": [
    {
     "data": {
      "image/png": "[encoded data removed]",
      "text/plain": [
       "<matplotlib.figure.Figure at 0x7f77306bb588>"
      ]
     },
     "metadata": {
      "needs_background": "light"
     },
     "output_type": "display_data"
    }
   ],
   "source": [
    "plt.imshow(grid, cmap='Greys', origin='lower')\n",
    "\n",
    "# For the purposes of the visual the east coordinate lay along\n",
    "# the x-axis and the north coordinates long the y-axis.\n",
    "plt.plot(start_ne[1], start_ne[0], 'x')\n",
    "plt.plot(goal_ne[1], goal_ne[0], 'x')\n",
    "\n",
    "if path is not None:\n",
    "    pp = np.array(path)\n",
    "    plt.plot(pp[:, 1], pp[:, 0], 'g')\n",
    "\n",
    "plt.xlabel('EAST')\n",
    "plt.ylabel('NORTH')\n",
    "plt.show()"
   ]
  },
  {
   "cell_type": "markdown",
   "metadata": {},
   "source": [
    "Pretty neat! Unfortunately this path is impractical, the drone would be constantly stopping and going since each grid cell visited is synonymous with a waypoint. Ideally, we'd like to only consider a new waypoint when the drone's direction changes. Path pruning is one way to achieve this result."
   ]
  },
  {
   "cell_type": "markdown",
   "metadata": {},
   "source": [
    "### Path Pruning"
   ]
  },
  {
   "cell_type": "code",
   "execution_count": 12,
   "metadata": {},
   "outputs": [],
   "source": [
    "def point(p):\n",
    "    return np.array([p[0], p[1], 1.]).reshape(1, -1)\n",
    "\n",
    "def collinearity_check(p1, p2, p3, epsilon=1e-6):   \n",
    "    m = np.concatenate((p1, p2, p3), 0)\n",
    "    det = np.linalg.det(m)\n",
    "    return abs(det) < epsilon"
   ]
  },
  {
   "cell_type": "markdown",
   "metadata": {},
   "source": [
    "Complete the `prune_path` function below. It should return a new path much shorter than the original."
   ]
  },
  {
   "cell_type": "code",
   "execution_count": 17,
   "metadata": {},
   "outputs": [],
   "source": [
    "def prune_path(path):\n",
    "    if path is not None:\n",
    "        pruned_path = [path[0]]\n",
    "        # TODO: prune the path!\n",
    "        if False:\n",
    "            # This version uses collinearity:\n",
    "            j = 2\n",
    "            while j < len(path):\n",
    "                pi = pruned_path[-1]\n",
    "                redundant = collinearity_check(point(pi), point(path[j-1]), point(path[j]))\n",
    "                if redundant:\n",
    "                    j += 1\n",
    "                else:\n",
    "                    pruned_path.append(path[j-1])\n",
    "                    j += 1\n",
    "            pruned_path.append(path[-1])\n",
    "        else:\n",
    "            # This version uses ray tracing:\n",
    "            j = 1\n",
    "            while j < len(path):\n",
    "                pi = pruned_path[-1]\n",
    "                pe = path[j]\n",
    "                ray = bresenham(pi[0], pi[1], int(pe[0]), int(pe[1]))\n",
    "                redundant = (np.sum([grid[ri,rj] for ri, rj in ray]) == 0)\n",
    "                if redundant:\n",
    "                    j += 1\n",
    "                else:\n",
    "                    pruned_path.append(path[j-1])\n",
    "            pruned_path.append(path[-1])\n",
    "\n",
    "    else:\n",
    "        pruned_path = path\n",
    "        \n",
    "    return pruned_path"
   ]
  },
  {
   "cell_type": "markdown",
   "metadata": {},
   "source": [
    "Prune the path."
   ]
  },
  {
   "cell_type": "code",
   "execution_count": 18,
   "metadata": {},
   "outputs": [
    {
     "name": "stdout",
     "output_type": "stream",
     "text": [
      "[(25, 100), (36, 143), (183, 300), (207, 324), (320, 323), (327, 316), (390, 306), (423, 306), (457, 354), (573, 356), (597, 384), (720, 384), (750.0, 370.0)]\n"
     ]
    }
   ],
   "source": [
    "pruned_path = prune_path(path)\n",
    "print(pruned_path)"
   ]
  },
  {
   "cell_type": "code",
   "execution_count": 19,
   "metadata": {},
   "outputs": [
    {
     "data": {
      "text/plain": [
       "[(25, 100),\n",
       " (36, 143),\n",
       " (183, 300),\n",
       " (207, 324),\n",
       " (320, 323),\n",
       " (327, 316),\n",
       " (390, 306),\n",
       " (423, 306),\n",
       " (457, 354),\n",
       " (573, 356),\n",
       " (597, 384),\n",
       " (720, 384),\n",
       " (750.0, 370.0)]"
      ]
     },
     "execution_count": 19,
     "metadata": {},
     "output_type": "execute_result"
    }
   ],
   "source": [
    "pruned_path"
   ]
  },
  {
   "cell_type": "markdown",
   "metadata": {},
   "source": [
    "Replot the path, it will be the same as before but the drone flight will be much smoother."
   ]
  },
  {
   "cell_type": "code",
   "execution_count": 20,
   "metadata": {},
   "outputs": [
    {
     "data": {
      "image/png": "[encoded data removed]",
      "text/plain": [
       "<matplotlib.figure.Figure at 0x7f77305ed358>"
      ]
     },
     "metadata": {
      "needs_background": "light"
     },
     "output_type": "display_data"
    }
   ],
   "source": [
    "plt.imshow(grid, cmap='Greys', origin='lower')\n",
    "\n",
    "plt.plot(start_ne[1], start_ne[0], 'x')\n",
    "plt.plot(goal_ne[1], goal_ne[0], 'x')\n",
    "\n",
    "if pruned_path is not None:\n",
    "    pp = np.array(pruned_path)\n",
    "    plt.plot(pp[:, 1], pp[:, 0], 'g')\n",
    "    plt.scatter(pp[:, 1], pp[:, 0])\n",
    "\n",
    "plt.xlabel('EAST')\n",
    "plt.ylabel('NORTH')\n",
    "\n",
    "plt.show()"
   ]
  },
  {
   "cell_type": "markdown",
   "metadata": {},
   "source": [
    "Now the waypoints symbolize a change in direction, much better!"
   ]
  },
  {
   "cell_type": "markdown",
   "metadata": {},
   "source": [
    "[solution](/notebooks/A-Star-City-Solution.ipynb)"
   ]
  },
  {
   "cell_type": "code",
   "execution_count": null,
   "metadata": {},
   "outputs": [],
   "source": []
  }
 ],
 "metadata": {
  "kernelspec": {
   "display_name": "Python 3",
   "language": "python",
   "name": "python3"
  },
  "language_info": {
   "codemirror_mode": {
    "name": "ipython",
    "version": 3
   },
   "file_extension": ".py",
   "mimetype": "text/x-python",
   "name": "python",
   "nbconvert_exporter": "python",
   "pygments_lexer": "ipython3",
   "version": "3.6.3"
  }
 },
 "nbformat": 4,
 "nbformat_minor": 2
}
