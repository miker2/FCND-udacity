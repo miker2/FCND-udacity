{
 "cells": [
  {
   "cell_type": "markdown",
   "metadata": {},
   "source": [
    "## Finding Your Way In The City (Graph Edition)\n",
    "In this notebook your attention will shift from grids to graphs. At least for search ... \n",
    "\n",
    "Using Voronoi graphs and the medial axis transform we can find paths which maximize safety from obstacles. In addition, graph representation allows further optimizations and more succinct queries."
   ]
  },
  {
   "cell_type": "code",
   "execution_count": 1,
   "metadata": {},
   "outputs": [
    {
     "name": "stdout",
     "output_type": "stream",
     "text": [
      "Processing /Users/michaelrose/Library/Caches/pip/wheels/73/23/af/0b183d0c311bbd174d61613a506bc22c7134eca8878d09aec0/networkx-2.1-py2.py3-none-any.whl\n",
      "Collecting decorator>=4.1.0\n",
      "  Using cached decorator-4.4.1-py2.py3-none-any.whl (9.2 kB)\n",
      "Installing collected packages: decorator, networkx\n",
      "Successfully installed decorator-4.4.1 networkx-2.1\n"
     ]
    }
   ],
   "source": [
    "# OK this might look a little ugly but...\n",
    "# need to import the latest version of networkx\n",
    "# This occassionally fails, so if the next cell \n",
    "# doesn't show that you're using networkx 2.1\n",
    "# please \"restart and clear output\" from \"Kernel\" menu\n",
    "# above and try again.\n",
    "import sys\n",
    "!{sys.executable} -m pip install -I networkx==2.1\n",
    "# import pkg_resources\n",
    "# pkg_resources.require(\"networkx==2.1\")"
   ]
  },
  {
   "cell_type": "code",
   "execution_count": 2,
   "metadata": {},
   "outputs": [
    {
     "data": {
      "text/plain": [
       "'2.1'"
      ]
     },
     "execution_count": 2,
     "metadata": {},
     "output_type": "execute_result"
    }
   ],
   "source": [
    "import networkx as nx\n",
    "nx.__version__"
   ]
  },
  {
   "cell_type": "code",
   "execution_count": 3,
   "metadata": {},
   "outputs": [
    {
     "ename": "ImportError",
     "evalue": "cannot import name 'create_grid_and_edges'",
     "output_type": "error",
     "traceback": [
      "\u001b[0;31m---------------------------------------------------------------------------\u001b[0m",
      "\u001b[0;31mImportError\u001b[0m                               Traceback (most recent call last)",
      "\u001b[0;32m<ipython-input-3-46795c809325>\u001b[0m in \u001b[0;36m<module>\u001b[0;34m\u001b[0m\n\u001b[1;32m      5\u001b[0m \u001b[0;32mimport\u001b[0m \u001b[0msys\u001b[0m\u001b[0;34m\u001b[0m\u001b[0m\n\u001b[1;32m      6\u001b[0m \u001b[0msys\u001b[0m\u001b[0;34m.\u001b[0m\u001b[0mpath\u001b[0m\u001b[0;34m.\u001b[0m\u001b[0mappend\u001b[0m\u001b[0;34m(\u001b[0m\u001b[0;34m'..'\u001b[0m\u001b[0;34m)\u001b[0m\u001b[0;34m\u001b[0m\u001b[0m\n\u001b[0;32m----> 7\u001b[0;31m \u001b[0;32mfrom\u001b[0m \u001b[0mgrid\u001b[0m \u001b[0;32mimport\u001b[0m \u001b[0mcreate_grid_and_edges\u001b[0m\u001b[0;34m\u001b[0m\u001b[0m\n\u001b[0m\u001b[1;32m      8\u001b[0m \u001b[0mget_ipython\u001b[0m\u001b[0;34m(\u001b[0m\u001b[0;34m)\u001b[0m\u001b[0;34m.\u001b[0m\u001b[0mrun_line_magic\u001b[0m\u001b[0;34m(\u001b[0m\u001b[0;34m'matplotlib'\u001b[0m\u001b[0;34m,\u001b[0m \u001b[0;34m'inline '\u001b[0m\u001b[0;34m)\u001b[0m\u001b[0;34m\u001b[0m\u001b[0m\n",
      "\u001b[0;31mImportError\u001b[0m: cannot import name 'create_grid_and_edges'"
     ]
    }
   ],
   "source": [
    "import numpy as np\n",
    "import matplotlib.pyplot as plt\n",
    "import numpy.linalg as LA\n",
    "\n",
    "import sys\n",
    "sys.path.append('..')\n",
    "from grid import create_grid_and_edges\n",
    "\n",
    "%matplotlib inline "
   ]
  },
  {
   "cell_type": "code",
   "execution_count": null,
   "metadata": {},
   "outputs": [],
   "source": [
    "plt.rcParams['figure.figsize'] = 12, 12"
   ]
  },
  {
   "cell_type": "code",
   "execution_count": null,
   "metadata": {},
   "outputs": [],
   "source": [
    "# This is the same obstacle data from the previous lesson.\n",
    "filename = '../colliders.csv'\n",
    "data = np.loadtxt(filename, delimiter=',', dtype='Float64', skiprows=2)\n",
    "print(data)"
   ]
  },
  {
   "cell_type": "markdown",
   "metadata": {},
   "source": [
    "Starting and goal positions in *(north, east)*."
   ]
  },
  {
   "cell_type": "code",
   "execution_count": null,
   "metadata": {},
   "outputs": [],
   "source": [
    "start_ne = (25,  100)\n",
    "goal_ne = (750., 370.)"
   ]
  },
  {
   "cell_type": "code",
   "execution_count": null,
   "metadata": {},
   "outputs": [],
   "source": [
    "# Static drone altitude (metres)\n",
    "drone_altitude = 5\n",
    "safety_distance = 3"
   ]
  },
  {
   "cell_type": "code",
   "execution_count": null,
   "metadata": {},
   "outputs": [],
   "source": [
    "# This is now the routine using Voronoi\n",
    "grid, edges = create_grid_and_edges(data, drone_altitude, safety_distance)\n",
    "print(len(edges))"
   ]
  },
  {
   "cell_type": "markdown",
   "metadata": {},
   "source": [
    "Plot the edges on top of the grid along with start and goal locations."
   ]
  },
  {
   "cell_type": "code",
   "execution_count": null,
   "metadata": {},
   "outputs": [],
   "source": [
    "# equivalent to\n",
    "# plt.imshow(np.flip(grid, 0))\n",
    "plt.imshow(grid, origin='lower', cmap='Greys') \n",
    "\n",
    "for e in edges:\n",
    "    p1 = e[0]\n",
    "    p2 = e[1]\n",
    "    plt.plot([p1[1], p2[1]], [p1[0], p2[0]], 'b-')\n",
    "\n",
    "    \n",
    "plt.plot(start_ne[1], start_ne[0], 'rx')\n",
    "plt.plot(goal_ne[1], goal_ne[0], 'rx')\n",
    "\n",
    "plt.xlabel('EAST')\n",
    "plt.ylabel('NORTH')\n",
    "plt.show()"
   ]
  },
  {
   "cell_type": "markdown",
   "metadata": {},
   "source": [
    "We now have a graph, well at least visually. The next step is to use the [`networkx`](https://networkx.github.io) to create the graph. **NetworkX** is a popular library handling anything and everything related to graph data structures and algorithms.\n",
    "\n",
    "**NOTE:** In the initial import above it was imported with the `nx` alias.\n",
    "\n",
    "You're encouraged to read the documentation but here's a super quick tour:\n",
    "\n",
    "1. Create a graph:\n",
    "\n",
    "```\n",
    "G = nx.Graph()\n",
    "```\n",
    "\n",
    "2. Add an edge:\n",
    "\n",
    "```\n",
    "p1 = (10, 2.2)\n",
    "p2 = (50, 40)\n",
    "G = nx.add_edge(p1, p2)\n",
    "```\n",
    "\n",
    "3 Add an edge with a weight:\n",
    "\n",
    "```\n",
    "p1 = (10, 2.2)\n",
    "p2 = (50, 40)\n",
    "dist = LA.norm(np.array(p2) - np.array(p1))\n",
    "G = nx.add_edge(p1, p2, weight=dist)\n",
    "```"
   ]
  },
  {
   "cell_type": "code",
   "execution_count": null,
   "metadata": {},
   "outputs": [],
   "source": [
    "# TODO: create the graph with the weight of the edges\n",
    "# set to the Euclidean distance between the points\n",
    "G = nx.Graph()\n",
    "for p1, p2 in edges:\n",
    "    dist = LA.norm(np.array(p2) - np.array(p1))\n",
    "    G.add_edge(p1, p2, weight=dist)\n",
    "\n",
    "for n in G.nodes:\n",
    "    print('Node:', n)\n",
    "    print(G[n])\n",
    "    print('Neighbors:')\n",
    "    for a in G.neighbors(n):\n",
    "        print(a)\n",
    "        print(G.get_edge_data(n, a))\n",
    "    print('----')   "
   ]
  },
  {
   "cell_type": "markdown",
   "metadata": {},
   "source": [
    "You need a method to search the graph, and you'll adapt A* in order to do this. The notable differences being the actions are now the outgoing edges and the cost of an action is that weight of that edge."
   ]
  },
  {
   "cell_type": "code",
   "execution_count": null,
   "metadata": {},
   "outputs": [],
   "source": [
    "from queue import PriorityQueue\n",
    "\n",
    "def heuristic(n1, n2):\n",
    "    return LA.norm(np.array(n1) - np.array(n2))\n",
    "\n",
    "###### THIS IS YOUR OLD GRID-BASED A* IMPLEMENTATION #######\n",
    "###### With a few minor modifications it can work with graphs! ####\n",
    "#TODO: modify A* to work with a graph\n",
    "def a_star(graph, h, start, goal):\n",
    "\n",
    "    path = []\n",
    "    path_cost = 0\n",
    "    queue = PriorityQueue()\n",
    "    queue.put((0, start))\n",
    "    visited = set(start)\n",
    "\n",
    "    branch = {}\n",
    "    found = False\n",
    "    \n",
    "    while not queue.empty():\n",
    "        item = queue.get()\n",
    "        current_node = item[1]\n",
    "        if current_node == start:\n",
    "            current_cost = 0.0\n",
    "        else:              \n",
    "            current_cost = branch[current_node][0]\n",
    "            \n",
    "        if current_node == goal:        \n",
    "            print('Found a path.')\n",
    "            found = True\n",
    "            break\n",
    "        else:\n",
    "            for next_node in graph.neighbors(current_node):\n",
    "                branch_cost = current_cost + graph.get_edge_data(current_node,next_node)['weight']\n",
    "                queue_cost = branch_cost + h(next_node, goal)\n",
    "                \n",
    "                if next_node not in visited:                \n",
    "                    visited.add(next_node)               \n",
    "                    branch[next_node] = (branch_cost, current_node)\n",
    "                    queue.put((queue_cost, next_node))\n",
    "             \n",
    "    if found:\n",
    "        # retrace steps\n",
    "        n = goal\n",
    "        path_cost = branch[n][0]\n",
    "        path.append(goal)\n",
    "        while branch[n][1] != start:\n",
    "            path.append(branch[n][1])\n",
    "            n = branch[n][1]\n",
    "        path.append(branch[n][1])\n",
    "    else:\n",
    "        print('**********************')\n",
    "        print('Failed to find a path!')\n",
    "        print('**********************') \n",
    "    return path[::-1], path_cost\n"
   ]
  },
  {
   "cell_type": "markdown",
   "metadata": {},
   "source": [
    "### Solution\n",
    "\n",
    "This solution consists of two parts:\n",
    "\n",
    "1. Find the closest point in the graph to our current location, same thing for the goal location.\n",
    "2. Compute the path from the two points in the graph using the A* algorithm.\n",
    "3. Feel free to use any of the path pruning techniques to make the path even smaller! \n",
    "4. Plot it up to see the results!"
   ]
  },
  {
   "cell_type": "markdown",
   "metadata": {},
   "source": [
    "### TODO: Write your solution!"
   ]
  },
  {
   "cell_type": "markdown",
   "metadata": {},
   "source": [
    "[our solution](/notebooks/Graph-Search-Solution.ipynb)"
   ]
  },
  {
   "cell_type": "code",
   "execution_count": null,
   "metadata": {},
   "outputs": [],
   "source": [
    "def find_nearest_node(graph, pos):\n",
    "    # Find the nearest node on the graph to the\n",
    "    # specified position\n",
    "    \n",
    "    # Generate an array of all node positions\n",
    "    nodes = np.array(graph.nodes)\n",
    "\n",
    "    # Calculate the distance of all nodes to the specified position\n",
    "    dist = LA.norm(nodes - np.array(pos), axis=1)\n",
    "    # Find the index of the minimum distance element and get the\n",
    "    # node position\n",
    "    near_node = nodes[dist.argmin()]\n",
    "    \n",
    "    return tuple(near_node)\n",
    "\n",
    "graph_start = find_nearest_node(G, start_ne)\n",
    "graph_goal = find_nearest_node(G, goal_ne)\n",
    "\n",
    "print(start_ne, goal_ne)\n",
    "print(graph_start, graph_goal)\n"
   ]
  },
  {
   "cell_type": "code",
   "execution_count": null,
   "metadata": {},
   "outputs": [],
   "source": [
    "# 1a. Find the closest point in the graph to the start location:\n",
    "graph_start = find_nearest_node(G, start_ne)\n",
    "\n",
    "# 1b. Find the closest point in the graph to the goal location:\n",
    "graph_goal = find_nearest_node(G, goal_ne)\n",
    "\n",
    "# 2. Compute the path from the two points in the graph using the A* algorithm.\n",
    "path, path_cost = a_star(G, heuristic, graph_start, graph_goal)\n",
    "print(\"Path found of length {0}. Total cost: {1}\".format(len(path), path_cost))\n",
    "\n",
    "# 3. Feel free to use any of the path pruning techniques to make the path even smaller! \n",
    "# TODO: Prune path using bresenham?\n",
    "\n",
    "# 4. Plot it up to see the results!\n",
    "plt.imshow(grid, cmap='Greys', origin='lower')\n",
    "\n",
    "for e in edges:\n",
    "    p1 = e[0]\n",
    "    p2 = e[1]\n",
    "    plt.plot([p1[1], p2[1]], [p1[0], p2[0]], 'b-')\n",
    "\n",
    "# For the purposes of the visual the east coordinate lay along\n",
    "# the x-axis and the north coordinates long the y-axis.\n",
    "plt.plot(start_ne[1], start_ne[0], 'gx')\n",
    "# Uncomment the following as needed\n",
    "plt.plot(goal_ne[1], goal_ne[0], 'rx')\n",
    "\n",
    "pp = np.array(path)\n",
    "plt.plot(pp[:, 1], pp[:, 0], 'm')\n",
    "\n",
    "plt.xlabel('EAST')\n",
    "plt.ylabel('NORTH')\n",
    "plt.show()"
   ]
  }
 ],
 "metadata": {
  "kernelspec": {
   "display_name": "Python 3",
   "language": "python",
   "name": "python3"
  },
  "language_info": {
   "codemirror_mode": {
    "name": "ipython",
    "version": 3
   },
   "file_extension": ".py",
   "mimetype": "text/x-python",
   "name": "python",
   "nbconvert_exporter": "python",
   "pygments_lexer": "ipython3",
   "version": "3.6.3"
  }
 },
 "nbformat": 4,
 "nbformat_minor": 2
}
