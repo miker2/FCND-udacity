{
 "cells": [
  {
   "cell_type": "markdown",
   "metadata": {},
   "source": [
    "# A*"
   ]
  },
  {
   "cell_type": "code",
   "execution_count": 1,
   "metadata": {},
   "outputs": [],
   "source": [
    "from queue import PriorityQueue\n",
    "import numpy as np\n",
    "from enum import Enum"
   ]
  },
  {
   "cell_type": "code",
   "execution_count": 2,
   "metadata": {},
   "outputs": [],
   "source": [
    "class Action(Enum):\n",
    "    \"\"\"\n",
    "    An action is represented by a 3 element tuple.\n",
    "    \n",
    "    The first 2 values are the delta of the action relative\n",
    "    to the current grid position. The third and final value\n",
    "    is the cost of performing the action.\n",
    "    \"\"\"\n",
    "    UP = (-1, 0, 1)\n",
    "    URIGHT = (-1, 1, 3*np.math.sqrt(2))\n",
    "    RIGHT = (0, 1, 1)\n",
    "    DRIGHT = (1, 1, 3*np.math.sqrt(2))\n",
    "    DOWN = (1, 0, 1)\n",
    "    DLEFT = (1, -1, 3*np.math.sqrt(2))\n",
    "    LEFT = (0, -1, 1)\n",
    "    ULEFT = (-1, -1, 3*np.math.sqrt(2))\n",
    "    \n",
    "    def __str__(self):\n",
    "        if self == self.UP:\n",
    "            return '↑'\n",
    "        elif self == self.URIGHT:\n",
    "            return '↗'\n",
    "        elif self == self.RIGHT:\n",
    "            return '→'\n",
    "        elif self == self.DRIGHT:\n",
    "            return '↘'\n",
    "        elif self == self.DOWN:\n",
    "            return '↓'\n",
    "        elif self == self.DLEFT:\n",
    "            return '↙'\n",
    "        elif self == self.LEFT:\n",
    "            return '←'\n",
    "        elif self == self.ULEFT:\n",
    "            return '↖'\n",
    "        \n",
    "    @property\n",
    "    def cost(self):\n",
    "        return self.value[2]\n",
    "    \n",
    "    @property\n",
    "    def delta(self):\n",
    "        return (self.value[0], self.value[1])\n",
    "\n",
    "def valid_actions(grid, current_node):\n",
    "    \"\"\"\n",
    "    Returns a list of valid actions given a grid and current node.\n",
    "    \"\"\"\n",
    "    # Select all actions as valid.\n",
    "    valid = [a for a in Action]\n",
    "    n, m = grid.shape[0] - 1, grid.shape[1] - 1\n",
    "    x, y = current_node\n",
    "    \n",
    "    for a in Action:\n",
    "        new_x = x + a.delta[0]\n",
    "        new_y = y + a.delta[1]\n",
    "        # Check if the node is off the grid\n",
    "        if new_x < 0 or new_x > n or new_y < 0 or new_y > m:\n",
    "            valid.remove(a)\n",
    "        # Check if the node is an obstacle\n",
    "        elif grid[new_x, new_y] == 1:\n",
    "            valid.remove(a)\n",
    "        \n",
    "    return valid\n",
    "\n",
    "def visualize_path(grid, path, start):\n",
    "    sgrid = np.zeros(np.shape(grid), dtype=np.str)\n",
    "    sgrid[:] = ' '\n",
    "    sgrid[grid[:] == 1] = 'O'\n",
    "    \n",
    "    pos = start\n",
    "    \n",
    "    for a in path:\n",
    "        da = a.value\n",
    "        sgrid[pos[0], pos[1]] = str(a)\n",
    "        pos = (pos[0] + da[0], pos[1] + da[1])\n",
    "    sgrid[pos[0], pos[1]] = 'G'\n",
    "    sgrid[start[0], start[1]] = 'S'  \n",
    "    return sgrid"
   ]
  },
  {
   "cell_type": "markdown",
   "metadata": {},
   "source": [
    "## Heuristics\n",
    "The heuristic function determines the $h()$ value for each cell based on the goal cell and the method chosen to determine it. The heuristic value can be the Euclidean distance between these cells $h= \\left((x_i-x_{goal})^2+(y_i-y_{goal})^2\\right)^{1/2}$ or the \"Manhattan distance\", which is the minimum number of moves required to reach the goal from the assigned cell $h = ||x_i-x_{goal}|| + ||y_i-y_{goal}||$. For this exercise you could use either, or something else which is *admissible* and *consistent*.\n",
    "\n",
    "The input variables include\n",
    "* **```position```** the coordinates of the cell for which you would like to determine the heuristic value.\n",
    "* **```goal_position```** the coordinates of the goal cell"
   ]
  },
  {
   "cell_type": "code",
   "execution_count": 3,
   "metadata": {},
   "outputs": [],
   "source": [
    "# TODO: implement a heuristic function. This may be one of the\n",
    "# functions described above or feel free to think of something\n",
    "# else.\n",
    "def heuristic(position, goal_position):\n",
    "    # Use euclidean distance as the heuristic for now\n",
    "    h = np.math.sqrt((goal_position[0] - position[0])**2 +\n",
    "                     (goal_position[1] - position[1])**2)\n",
    "    return h"
   ]
  },
  {
   "cell_type": "markdown",
   "metadata": {},
   "source": [
    "## A* search\n",
    "\n",
    "A* search is an extension of the cost search you implemented. A heuristic function is used in addition to the cost penalty. Thus if the setup is:\n",
    "\n",
    "* $c$ is the current cost\n",
    "* $g$ is the cost function\n",
    "* $h$ is the heuristic function\n",
    "\n",
    "Then the new cost is $c_{new} = c + g() + h()$.\n",
    "\n",
    "The difference between $g$ and $h$ is that $g$ models the cost of performing actions, irrespective of the environment, while $h$ models the cost based on the environment, i.e., the distance to the goal."
   ]
  },
  {
   "cell_type": "markdown",
   "metadata": {},
   "source": [
    "You know what comes next, turn the `TODOs` into `DONEs` :)"
   ]
  },
  {
   "cell_type": "code",
   "execution_count": 8,
   "metadata": {},
   "outputs": [],
   "source": [
    "def a_star(grid, h, start, goal):\n",
    "    # Initialize search variables.\n",
    "    queue = PriorityQueue()\n",
    "    queue.put((0, start))\n",
    "    visited = set(start)\n",
    "    branch = {}\n",
    "    found = False\n",
    "    \n",
    "    while not queue.empty():\n",
    "        #print(queue.queue)\n",
    "        item = queue.get()\n",
    "        current_node = item[1]\n",
    "        if current_node == start:\n",
    "            current_cost = 0.0\n",
    "        else:              \n",
    "            current_cost = branch[current_node][0]\n",
    "\n",
    "        if current_node == goal:        \n",
    "            print('Found a path.')\n",
    "            found = True\n",
    "            break\n",
    "        else:\n",
    "            for action in valid_actions(grid, current_node):\n",
    "                # get the tuple representation\n",
    "                da = action.delta\n",
    "                next_node = (current_node[0] + da[0], \n",
    "                             current_node[1] + da[1])\n",
    "                # Calculate branch cost (action.cost + g)\n",
    "                branch_cost = action.cost + current_cost\n",
    "                # Calculate queue cost (action.cost + g + h)\n",
    "                queue_cost = branch_cost + heuristic(next_node, goal)\n",
    "                \n",
    "                #print(\"Adding\", (queue_cost, next_node))\n",
    "                if next_node not in visited:                \n",
    "                    visited.add(next_node)               \n",
    "                    branch[next_node] = (branch_cost, current_node, action)\n",
    "                    queue.put((queue_cost, next_node))    \n",
    "                #else:\n",
    "                #    print(\"  ... already in visited set\")\n",
    "          \n",
    "    path = []\n",
    "    path_cost = 0\n",
    "    if found:\n",
    "        # retrace steps\n",
    "        n = goal\n",
    "        path_cost = branch[n][0]\n",
    "        while branch[n][1] != start:\n",
    "            path.append(branch[n][2])\n",
    "            n = branch[n][1]\n",
    "        path.append(branch[n][2])\n",
    "    else:\n",
    "        print('**********************')\n",
    "        print('Failed to find a path!')\n",
    "        print('**********************')\n",
    "        \n",
    "    return path[::-1], path_cost"
   ]
  },
  {
   "cell_type": "code",
   "execution_count": 5,
   "metadata": {},
   "outputs": [],
   "source": [
    "start = (0, 0)\n",
    "goal = (4, 4)\n",
    "\n",
    "grid = np.array([\n",
    "    [0, 1, 0, 0, 0, 0],\n",
    "    [0, 0, 0, 0, 0, 0],\n",
    "    [0, 1, 0, 0, 0, 0],\n",
    "    [0, 0, 0, 1, 1, 0],\n",
    "    [0, 0, 0, 1, 0, 0],\n",
    "])"
   ]
  },
  {
   "cell_type": "code",
   "execution_count": 9,
   "metadata": {},
   "outputs": [
    {
     "name": "stdout",
     "output_type": "stream",
     "text": [
      "Found a path.\n",
      "[<Action.DRIGHT: (1, 1, 4.242640687119286)>, <Action.RIGHT: (0, 1, 1)>, <Action.RIGHT: (0, 1, 1)>, <Action.DRIGHT: (1, 1, 4.242640687119286)>, <Action.DRIGHT: (1, 1, 4.242640687119286)>, <Action.DLEFT: (1, -1, 4.242640687119286)>] 18.970562748477143\n"
     ]
    }
   ],
   "source": [
    "path, cost = a_star(grid, heuristic, start, goal)\n",
    "print(path, cost)"
   ]
  },
  {
   "cell_type": "code",
   "execution_count": 7,
   "metadata": {},
   "outputs": [
    {
     "data": {
      "text/plain": [
       "array([['S', 'O', ' ', ' ', ' ', ' '],\n",
       "       [' ', '→', '→', '↘', ' ', ' '],\n",
       "       [' ', 'O', ' ', ' ', '↘', ' '],\n",
       "       [' ', ' ', ' ', 'O', 'O', '↙'],\n",
       "       [' ', ' ', ' ', 'O', 'G', ' ']], dtype='<U1')"
      ]
     },
     "execution_count": 7,
     "metadata": {},
     "output_type": "execute_result"
    }
   ],
   "source": [
    "# S -> start, G -> goal, O -> obstacle\n",
    "visualize_path(grid, path, start)"
   ]
  },
  {
   "cell_type": "markdown",
   "metadata": {},
   "source": [
    "[Solution](/notebooks/A-Star-Solution.ipynb)"
   ]
  },
  {
   "cell_type": "code",
   "execution_count": null,
   "metadata": {},
   "outputs": [],
   "source": []
  }
 ],
 "metadata": {
  "kernelspec": {
   "display_name": "Python 3",
   "language": "python",
   "name": "python3"
  },
  "language_info": {
   "codemirror_mode": {
    "name": "ipython",
    "version": 3
   },
   "file_extension": ".py",
   "mimetype": "text/x-python",
   "name": "python",
   "nbconvert_exporter": "python",
   "pygments_lexer": "ipython3",
   "version": "3.7.4"
  }
 },
 "nbformat": 4,
 "nbformat_minor": 2
}
