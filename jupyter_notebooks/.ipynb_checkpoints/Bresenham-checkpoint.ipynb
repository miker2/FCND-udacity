{
 "cells": [
  {
   "cell_type": "markdown",
   "metadata": {},
   "source": [
    "## Bresenham "
   ]
  },
  {
   "cell_type": "code",
   "execution_count": 1,
   "metadata": {},
   "outputs": [],
   "source": [
    "import numpy as np\n",
    "import matplotlib.pyplot as plt\n",
    "%matplotlib inline\n",
    "plt.rcParams['figure.figsize'] = 12, 12"
   ]
  },
  {
   "cell_type": "code",
   "execution_count": 2,
   "metadata": {},
   "outputs": [],
   "source": [
    "def plotCells(p1, p2, cells, title):\n",
    "    \n",
    "    plt.plot([p1[0], p2[0]], [p1[1], p2[1]])\n",
    "    \n",
    "    box = np.array([[0, 0],\n",
    "                    [1, 0],\n",
    "                    [1, 1],\n",
    "                    [0, 1]])\n",
    "    \n",
    "    for q in cells:\n",
    "        for k in range(box.shape[0]):\n",
    "            kp1 = (k+1) % box.shape[0]\n",
    "            plt.plot([q[0]+box[k][0], q[0]+box[kp1][0]],\n",
    "                     [q[1]+box[k][1], q[1]+box[kp1][1]], 'k')\n",
    "\n",
    "    plt.grid()\n",
    "    plt.axis('equal')\n",
    "    plt.xlabel(\"X\")\n",
    "    plt.ylabel(\"Y\")\n",
    "    plt.title(title)\n",
    "    plt.show()"
   ]
  },
  {
   "cell_type": "markdown",
   "metadata": {},
   "source": [
    "Your task is to implement the bresenham function given two points $p_1$ and $p_2$ as inputs. The function should return the list of grid cells required to draw the line.\n",
    "\n",
    "What conditions would warrant a move by 1 unit along the x-axis? What about along the y-axis?\n",
    "\n",
    "The idea is to move based on whether the next $y$ value will be above or below the line from $p_1$ to $p_2$. We can keep track of the current line value, effectively $f(x)$ where $f$ is the line equation by incrementing a counter variable by the slope $m$ whenever we move in the x-axis.\n",
    "\n",
    "The condition is then (in pseudocode):\n",
    "\n",
    "```\n",
    "if f(x+1) > y + 1:\n",
    "    y += 1\n",
    "else:\n",
    "    x += 1\n",
    "```\n",
    "\n",
    "So, if moving along the y-axis results in a y value that is below the line, then move along the y-axis, otherwise,  move in the x-axis.\n",
    "\n",
    "But what about the case where `f(x+1) == y+1`? This will be the result of every test case when the line slope `m = 1`. In this case you have a choice to make:\n",
    "* Only identify cells that as \"in collision\" when the line actually passes through those cells (less conservative obstacle avoidance)\n",
    "* When the line passes directly through a corner of grid cells, identify all cells that share that corner as \"in collision\" (more conservative obstacle avoidance). \n",
    "\n",
    "These two options look like this for a line from (0, 0) to (5, 5):\n",
    "\n",
    "![comparison](./bresenham_comparison.png)\n",
    "\n",
    "\n",
    "Try coding up both! In the event that you've padded obstacles  in your grid map with a sufficient safety margin, you can likely get away with the less conservative approach (or computer graphics based Bresenham implementation in the Python package shown below).\n"
   ]
  },
  {
   "cell_type": "code",
   "execution_count": 3,
   "metadata": {},
   "outputs": [],
   "source": [
    "def bres(p1, p2): \n",
    "    \"\"\"\n",
    "    Note this solution requires `x1` < `x2` and `y1` < `y2`.\n",
    "    \"\"\"\n",
    "    if p1[0] > p2[0]:\n",
    "        # swap the points so that p1[x] < p2[x]\n",
    "        p2, p1 = p1, p2\n",
    "        \n",
    "    x1, y1 = p1\n",
    "    x2, y2 = p2\n",
    "    \n",
    "    dy = y2 - y1\n",
    "    dx = x2 - x1\n",
    "    # m = (y2-y1) / (x2-x1)\n",
    "    # f = lambda x : m * x + y1\n",
    "    # y = (dy/dx) * x + y1\n",
    "    # dx * y = dy * x + dx * y1\n",
    "    print('dx: %d, dy: %d' % (dx, dy))\n",
    "    \n",
    "    yi = 1\n",
    "    if dy < 0:\n",
    "        yi = -1\n",
    "    \n",
    "    x = x1\n",
    "    y = y1\n",
    "    if dy < 0:\n",
    "        y -= 1\n",
    "\n",
    "    count = 0\n",
    "    cells = []\n",
    "    while not (x == x2 and y == y2) and count < 20:#(x < (x2) or yi*y < yi*(y2)) and count < 20:\n",
    "        cells.append((x,y))\n",
    "        yp1 = dx*(y+yi)\n",
    "        fxp1 = dy*(x+1)+dx*y1\n",
    "        D = yp1 - fxp1\n",
    "        #print(\"fxp1:\", fxp1, \"yp1:\", yp1)\n",
    "        if D == 0:\n",
    "            y += 1\n",
    "            x += 1\n",
    "        elif D*yi < 0:\n",
    "            y += yi\n",
    "        else:\n",
    "            x += 1\n",
    "                \n",
    "        count += 1\n",
    "        \n",
    "    return np.array(cells)"
   ]
  },
  {
   "cell_type": "code",
   "execution_count": null,
   "metadata": {},
   "outputs": [],
   "source": [
    "def bres(p1, p2):\n",
    "    \"\"\"\n",
    "    Note this solution requires `x1` < `x2` and `y1` < `y2`.\n",
    "    \"\"\"\n",
    "    x1, y1 = p1\n",
    "    x2, y2 = p2\n",
    "    cells = []\n",
    "    \n",
    "    # Here's a quick explanation in math terms of our approach\n",
    "    # First, set dx = x2 - x1 and dy = y2 - y1\n",
    "    dx, dy = x2 - x1, y2 - y1\n",
    "    # Then define a new quantity: d = x dy - y dx.\n",
    "    # and set d = 0 initially\n",
    "    d = 0\n",
    "    # The condition we care about is whether \n",
    "    # (x + 1) * m < y + 1 or moving things around a bit: \n",
    "    # (x + 1) dy / dx < y + 1 \n",
    "    # which implies: x dy - y dx < dx - dy\n",
    "    # or in other words: d < dx - dy is our new condition\n",
    "    \n",
    "    # Initialize i, j indices\n",
    "    i = x1\n",
    "    j = y1\n",
    "    \n",
    "    while i < x2 and j < y2:\n",
    "        cells.append([i, j])\n",
    "        if d < dx - dy:\n",
    "            d += dy\n",
    "            i += 1\n",
    "        elif d == dx - dy:\n",
    "            # uncomment these two lines for conservative approach\n",
    "            #cells.append([i+1, j])\n",
    "            #cells.append([i, j+1])\n",
    "            d += dy\n",
    "            i += 1  \n",
    "            d -= dx\n",
    "            j += 1\n",
    "        else:\n",
    "            d -= dx\n",
    "            j += 1\n",
    "\n",
    "    return np.array(cells)"
   ]
  },
  {
   "cell_type": "markdown",
   "metadata": {},
   "source": [
    "Plotting the line with the cells which it crosses. "
   ]
  },
  {
   "cell_type": "code",
   "execution_count": 7,
   "metadata": {
    "scrolled": true
   },
   "outputs": [
    {
     "name": "stdout",
     "output_type": "stream",
     "text": [
      "dx: 7, dy: -5\n",
      "[[ 0  1  2  2  3  4  4  5  5  6  7  7]\n",
      " [-1 -1 -1 -2 -2 -2 -3 -3 -4 -4 -3 -4]]\n"
     ]
    },
    {
     "data": {
      "image/png": "[encoded data removed]",
      "text/plain": [
       "<matplotlib.figure.Figure at 0x7fe51f2b3c18>"
      ]
     },
     "metadata": {
      "needs_background": "light"
     },
     "output_type": "display_data"
    }
   ],
   "source": [
    "p1 = (0, 0)\n",
    "p2 = (7, -5)\n",
    "\n",
    "cells = bres(p1, p2)\n",
    "print(cells.transpose())\n",
    "\n",
    "plotCells(p1, p2, cells, \"Integer based Bresenham algorithm\")\n"
   ]
  },
  {
   "cell_type": "markdown",
   "metadata": {},
   "source": [
    "Check out our solution [here](/notebooks/Bresenham-Solution.ipynb)."
   ]
  },
  {
   "cell_type": "markdown",
   "metadata": {},
   "source": [
    "### Python Bresenham Package\n",
    "For comparison let's have a look at the Python Bresenham package! As mentioned above, if you've added a safety margin around obstacles you are probably fine using this package or one like it that misses some cells in collision with the line.\n",
    "\n",
    "First we need to import it:"
   ]
  },
  {
   "cell_type": "code",
   "execution_count": 10,
   "metadata": {},
   "outputs": [],
   "source": [
    "from bresenham import bresenham"
   ]
  },
  {
   "cell_type": "markdown",
   "metadata": {},
   "source": [
    "Next we can run the same experiment as above and plot it up."
   ]
  },
  {
   "cell_type": "code",
   "execution_count": 17,
   "metadata": {},
   "outputs": [
    {
     "name": "stdout",
     "output_type": "stream",
     "text": [
      "[(0, 0), (1, 1), (1, 2), (2, 3), (3, 4), (4, 5), (4, 6), (5, 7)]\n"
     ]
    },
    {
     "data": {
      "image/png": "[encoded data removed]",
      "text/plain": [
       "<matplotlib.figure.Figure at 0x7fc9bcf97eb8>"
      ]
     },
     "metadata": {
      "needs_background": "light"
     },
     "output_type": "display_data"
    }
   ],
   "source": [
    "# Note: you can run this for any (x1, y1, x2, y2)\n",
    "line = (0, 0, 5, 7)\n",
    "\n",
    "cells = list(bresenham(line[0], line[1], line[2], line[3]))\n",
    "print(cells)\n",
    "\n",
    "plotCells(line[0:2], line[2:4], cells, \"Python package Bresenham algorithm\")"
   ]
  },
  {
   "cell_type": "code",
   "execution_count": null,
   "metadata": {},
   "outputs": [],
   "source": []
  }
 ],
 "metadata": {
  "kernelspec": {
   "display_name": "Python 3",
   "language": "python",
   "name": "python3"
  },
  "language_info": {
   "codemirror_mode": {
    "name": "ipython",
    "version": 3
   },
   "file_extension": ".py",
   "mimetype": "text/x-python",
   "name": "python",
   "nbconvert_exporter": "python",
   "pygments_lexer": "ipython3",
   "version": "3.7.4"
  }
 },
 "nbformat": 4,
 "nbformat_minor": 2
}
